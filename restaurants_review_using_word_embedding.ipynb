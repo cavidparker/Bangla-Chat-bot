{
 "cells": [
  {
   "cell_type": "code",
   "execution_count": 1,
   "metadata": {},
   "outputs": [],
   "source": [
    "from numpy import array \n",
    "from tensorflow.keras.preprocessing.text import one_hot\n",
    "from tensorflow.keras.preprocessing.sequence import pad_sequences\n",
    "from tensorflow.keras.models import Sequential\n",
    "from tensorflow.keras.layers import Flatten,Embedding,Dense"
   ]
  },
  {
   "cell_type": "code",
   "execution_count": 2,
   "metadata": {},
   "outputs": [],
   "source": [
    "reviews = [\n",
    "    'আমি আর আসছি না এখানে!',\n",
    "    'একদম বাজে সার্ভিস',\n",
    "    'কথা শোনে না ওয়েটার',\n",
    "    'একদম ঠান্ডা খাবার',\n",
    "    'বাজে খাবার!',\n",
    "    'অসাধারণ',\n",
    "    'অসাধারণ সার্ভিস!',\n",
    "    'খুব ভালো!',\n",
    "    'মোটামুটি',\n",
    "    'এর থেকে ভালো হয়না']"
   ]
  },
  {
   "cell_type": "code",
   "execution_count": 3,
   "metadata": {},
   "outputs": [
    {
     "data": {
      "text/plain": [
       "list"
      ]
     },
     "execution_count": 3,
     "metadata": {},
     "output_type": "execute_result"
    }
   ],
   "source": [
    "type(reviews)"
   ]
  },
  {
   "cell_type": "code",
   "execution_count": 4,
   "metadata": {},
   "outputs": [],
   "source": [
    "labels = array([1,1,1,1,1,0,0,0,0,0])"
   ]
  },
  {
   "cell_type": "code",
   "execution_count": 5,
   "metadata": {},
   "outputs": [
    {
     "name": "stdout",
     "output_type": "stream",
     "text": [
      "আমি আর আসছি না এখানে!\n"
     ]
    }
   ],
   "source": [
    "print(reviews[0])"
   ]
  },
  {
   "cell_type": "code",
   "execution_count": 6,
   "metadata": {},
   "outputs": [
    {
     "data": {
      "text/plain": [
       "1"
      ]
     },
     "execution_count": 6,
     "metadata": {},
     "output_type": "execute_result"
    }
   ],
   "source": [
    "labels[0]"
   ]
  },
  {
   "cell_type": "code",
   "execution_count": 7,
   "metadata": {},
   "outputs": [
    {
     "name": "stdout",
     "output_type": "stream",
     "text": [
      "Encode reviews: [[31, 13, 37, 44, 45], [3, 48, 42], [34, 33, 44, 2], [3, 13, 2], [48, 2], [17], [17, 42], [10, 42], [31], [45, 2, 42, 24]]\n"
     ]
    }
   ],
   "source": [
    "VOCAB_SIZE = 50 # we just assume that size\n",
    "encoded_reviews = [one_hot(d, VOCAB_SIZE) for d in reviews]\n",
    "print(f\"Encode reviews: {encoded_reviews}\")\n"
   ]
  },
  {
   "cell_type": "code",
   "execution_count": 8,
   "metadata": {},
   "outputs": [],
   "source": [
    "MAX_LENGTH = 4 \n",
    "padded_reviews = pad_sequences(encoded_reviews, maxlen=MAX_LENGTH, padding='post')"
   ]
  },
  {
   "cell_type": "code",
   "execution_count": 9,
   "metadata": {},
   "outputs": [
    {
     "name": "stdout",
     "output_type": "stream",
     "text": [
      "[[13 37 44 45]\n",
      " [ 3 48 42  0]\n",
      " [34 33 44  2]\n",
      " [ 3 13  2  0]\n",
      " [48  2  0  0]\n",
      " [17  0  0  0]\n",
      " [17 42  0  0]\n",
      " [10 42  0  0]\n",
      " [31  0  0  0]\n",
      " [45  2 42 24]]\n"
     ]
    }
   ],
   "source": [
    "print(padded_reviews)"
   ]
  },
  {
   "cell_type": "code",
   "execution_count": 12,
   "metadata": {},
   "outputs": [],
   "source": [
    "model = Sequential()\n",
    "embedding_layer = Embedding(VOCAB_SIZE, 8, input_length = MAX_LENGTH)\n",
    "model.add(embedding_layer)\n",
    "model.add(Flatten())\n",
    "model.add(Dense(1, activation='sigmoid'))\n",
    "model.compile(optimizer='adam', loss='binary_crossentropy', metrics=['acc'])\n"
   ]
  },
  {
   "cell_type": "code",
   "execution_count": 13,
   "metadata": {},
   "outputs": [
    {
     "name": "stdout",
     "output_type": "stream",
     "text": [
      "Model: \"sequential_1\"\n",
      "_________________________________________________________________\n",
      "Layer (type)                 Output Shape              Param #   \n",
      "=================================================================\n",
      "embedding_1 (Embedding)      (None, 4, 8)              400       \n",
      "_________________________________________________________________\n",
      "flatten (Flatten)            (None, 32)                0         \n",
      "_________________________________________________________________\n",
      "dense (Dense)                (None, 1)                 33        \n",
      "=================================================================\n",
      "Total params: 433\n",
      "Trainable params: 433\n",
      "Non-trainable params: 0\n",
      "_________________________________________________________________\n",
      "None\n"
     ]
    }
   ],
   "source": [
    "print(model.summary())"
   ]
  },
  {
   "cell_type": "code",
   "execution_count": 14,
   "metadata": {},
   "outputs": [
    {
     "data": {
      "text/plain": [
       "<tensorflow.python.keras.callbacks.History at 0x7fc0335c0b00>"
      ]
     },
     "execution_count": 14,
     "metadata": {},
     "output_type": "execute_result"
    }
   ],
   "source": [
    "model.fit(padded_reviews, labels, epochs = 100, verbose = 0)"
   ]
  },
  {
   "cell_type": "code",
   "execution_count": 20,
   "metadata": {},
   "outputs": [
    {
     "name": "stdout",
     "output_type": "stream",
     "text": [
      "(50, 8)\n"
     ]
    }
   ],
   "source": [
    "print(embedding_layer.get_weights()[0].shape)\n"
   ]
  },
  {
   "cell_type": "code",
   "execution_count": 25,
   "metadata": {},
   "outputs": [
    {
     "name": "stdout",
     "output_type": "stream",
     "text": [
      "[[ 0.1638433  -0.07291833  0.08543549 -0.11453667 -0.13297585 -0.05911572\n",
      "  -0.03998092  0.0815617 ]\n",
      " [ 0.04008337 -0.00471894 -0.01502096  0.04812229  0.02867771  0.02212423\n",
      "  -0.02320287  0.03574821]\n",
      " [-0.12936173  0.13574202 -0.07317565  0.12575494  0.08981211  0.07197513\n",
      "   0.13341413 -0.05662116]\n",
      " [-0.12007947  0.0947543  -0.08118816  0.14328049  0.05552011 -0.11480528\n",
      "   0.13393497  0.09594744]\n",
      " [ 0.03104192  0.0082926  -0.00487846  0.03819532  0.01177236  0.00496268\n",
      "   0.04640045  0.02416046]\n",
      " [ 0.00301319 -0.02278047 -0.02698796 -0.04764272 -0.03087274  0.03257908\n",
      "   0.01048158 -0.01137283]\n",
      " [ 0.03705336  0.00387283 -0.00156573  0.04752927 -0.04061283  0.02613558\n",
      "   0.01090806  0.04138226]\n",
      " [ 0.04509659  0.04350119 -0.04842755  0.00765057 -0.04337609  0.04712768\n",
      "  -0.03019538  0.04776401]\n",
      " [-0.02630807 -0.03360607 -0.01024401 -0.0054285  -0.01279521  0.03048204\n",
      "   0.0493163   0.00890334]\n",
      " [-0.0474932   0.04910377  0.04276378  0.02265021  0.01451634 -0.03267755\n",
      "  -0.01726349  0.01585373]\n",
      " [ 0.06461307 -0.10639694  0.12376935 -0.14519715 -0.08542025  0.06401889\n",
      "  -0.1031726  -0.10740259]\n",
      " [-0.02385309 -0.01927133  0.0287273   0.04773552  0.0200155  -0.00436587\n",
      "  -0.03424668 -0.03077703]\n",
      " [ 0.04871358 -0.00253396  0.03098264 -0.03535534 -0.04499453 -0.04782784\n",
      "  -0.04232844  0.0064464 ]\n",
      " [-0.07518797  0.05706508 -0.07893826  0.15783897  0.12462221 -0.11646459\n",
      "   0.02321368 -0.08616401]\n",
      " [ 0.02637589  0.00305104  0.02578341  0.04825056 -0.00118206  0.04226157\n",
      "  -0.02752885 -0.03880935]\n",
      " [-0.00164243  0.02872306  0.04158957 -0.0471099   0.01235671  0.03378377\n",
      "  -0.03058525  0.02150447]\n",
      " [ 0.03349802  0.04568637  0.02893397  0.02589199  0.03162021 -0.00919045\n",
      "   0.01293553 -0.02010615]\n",
      " [ 0.05567088 -0.09579523  0.09984816 -0.09194874 -0.14616172  0.05976777\n",
      "  -0.14825718 -0.09312206]\n",
      " [ 0.0011147   0.00248799  0.00028342  0.03906787  0.03763484 -0.00289186\n",
      "  -0.04233334 -0.02506307]\n",
      " [-0.03055446  0.03569145 -0.03313901  0.01252797  0.01656871  0.04909741\n",
      "   0.00426318 -0.02645719]\n",
      " [-0.03779857 -0.04122615  0.04369933 -0.04910144  0.02432403 -0.02746149\n",
      "   0.03221009 -0.01748791]\n",
      " [-0.00592709 -0.0311811   0.04717401  0.04983512 -0.00621624 -0.02721349\n",
      "  -0.00821494  0.04689587]\n",
      " [ 0.0029212  -0.03857668 -0.00501472 -0.03880865  0.03277722 -0.00820497\n",
      "  -0.04234384 -0.02369894]\n",
      " [ 0.02545804  0.04897083  0.04091568  0.00038129  0.01786048  0.01089973\n",
      "  -0.02950579  0.0198246 ]\n",
      " [ 0.14701076 -0.06165376  0.09913741 -0.10343911  0.14424999 -0.05543801\n",
      "  -0.04686178  0.11351861]\n",
      " [ 0.03088054 -0.02986013 -0.00182173 -0.0471282  -0.04782379 -0.02498903\n",
      "  -0.02637807 -0.00662668]\n",
      " [ 0.04786748  0.04325852  0.03471848 -0.02002659  0.0194745  -0.02275537\n",
      "  -0.00042398 -0.01154101]\n",
      " [ 0.02981302  0.0223073   0.01738583  0.00715075 -0.00587015  0.02925542\n",
      "   0.03235168  0.00532581]\n",
      " [ 0.00992324 -0.02483994  0.03558921  0.04645039 -0.04832719  0.01428658\n",
      "   0.00872651 -0.03922039]\n",
      " [-0.01162536 -0.03849374 -0.03455391  0.02803825  0.04230299  0.02036053\n",
      "  -0.02320049  0.0283333 ]\n",
      " [ 0.01501521  0.0114274  -0.01920618 -0.04663556 -0.01718719  0.0488877\n",
      "   0.03800639  0.02932521]\n",
      " [ 0.14490864 -0.07810072  0.06852129 -0.10977609 -0.06395353  0.08602397\n",
      "  -0.08375568 -0.14614783]\n",
      " [ 0.04407079  0.02851849 -0.03579725  0.03367647  0.013154    0.01390088\n",
      "  -0.03980003 -0.03686695]\n",
      " [ 0.03078277  0.09788555  0.0273041   0.01317504 -0.10177636 -0.08618478\n",
      "  -0.11923911 -0.06623235]\n",
      " [-0.12535176  0.05187239 -0.10894313  0.1217731   0.06188621 -0.06726866\n",
      "   0.1274689   0.05074985]\n",
      " [ 0.02643352  0.02041812 -0.00165214 -0.0431     -0.04500287  0.01897776\n",
      "  -0.02900457 -0.04533027]\n",
      " [ 0.03619448  0.04134281 -0.0316534  -0.03157767 -0.02796991 -0.00888447\n",
      "   0.02659396 -0.03400736]\n",
      " [ 0.12407391  0.11736597  0.03249375  0.02826164 -0.12997746 -0.14423037\n",
      "  -0.14147545 -0.082942  ]\n",
      " [-0.00465913  0.04818996 -0.04860137  0.01540703  0.01637021 -0.03228883\n",
      "   0.02024349  0.0184725 ]\n",
      " [-0.00551569  0.02400545 -0.03776301  0.04021697  0.02571379 -0.02080209\n",
      "  -0.02538675  0.03734938]\n",
      " [ 0.04203557 -0.04481664 -0.00568543 -0.01545768 -0.00104073  0.01689513\n",
      "   0.03032276  0.0101935 ]\n",
      " [ 0.00536804  0.00434383 -0.03160117  0.02872249  0.00821692  0.0251337\n",
      "  -0.03559481 -0.04456053]\n",
      " [-0.09454261 -0.10754988 -0.01561629 -0.07644604  0.1243676   0.14046055\n",
      "   0.12057561  0.11871625]\n",
      " [ 0.04729373  0.01223707  0.00701401  0.03379368  0.02824719 -0.0136592\n",
      "   0.00836974  0.03622763]\n",
      " [-0.13858843  0.13019328 -0.1440705   0.10646757  0.14241722  0.1358438\n",
      "   0.06534044  0.08964611]\n",
      " [ 0.08889345 -0.13897453 -0.12005672 -0.11919586 -0.06777921  0.1430495\n",
      "  -0.05330172 -0.12217443]\n",
      " [ 0.00972972  0.02967412 -0.02244473 -0.03055847  0.0359609  -0.01573216\n",
      "   0.03498055 -0.00290369]\n",
      " [ 0.03068736 -0.03593571 -0.01878822  0.01723817 -0.01718849  0.04754862\n",
      "  -0.01156657 -0.04685735]\n",
      " [-0.10682202  0.11001253 -0.08450468  0.15018876  0.09517439 -0.14357586\n",
      "   0.09551677 -0.10081381]\n",
      " [ 0.01694158 -0.04674987 -0.03151887  0.0220939   0.01699701  0.0313356\n",
      "   0.00413566  0.00764064]]\n"
     ]
    }
   ],
   "source": [
    "print(embedding_layer.get_weights()[0])"
   ]
  },
  {
   "cell_type": "code",
   "execution_count": 26,
   "metadata": {},
   "outputs": [],
   "source": [
    "loss, accuracy = model.evaluate(padded_reviews, labels, verbose = 0)"
   ]
  },
  {
   "cell_type": "code",
   "execution_count": 27,
   "metadata": {},
   "outputs": [
    {
     "name": "stdout",
     "output_type": "stream",
     "text": [
      "accuracy: 1.0\n"
     ]
    }
   ],
   "source": [
    "print(f'accuracy: {accuracy}')"
   ]
  },
  {
   "cell_type": "code",
   "execution_count": null,
   "metadata": {},
   "outputs": [],
   "source": []
  },
  {
   "cell_type": "code",
   "execution_count": 28,
   "metadata": {},
   "outputs": [],
   "source": [
    "## Using one hot encoding :"
   ]
  },
  {
   "cell_type": "code",
   "execution_count": 29,
   "metadata": {},
   "outputs": [],
   "source": [
    "from tensorflow.keras.preprocessing.sequence import pad_sequences\n",
    "from tensorflow.keras.utils import to_categorical\n",
    "from tensorflow.keras.models import Sequential\n",
    "from tensorflow.keras.layers import Embedding,Dense,LSTM\n",
    "import numpy as np"
   ]
  },
  {
   "cell_type": "code",
   "execution_count": 30,
   "metadata": {},
   "outputs": [],
   "source": [
    "num_classes = 5\n",
    "max_words = 20\n",
    "sentences = ['আমি আর আসছি না এখানে!','কথা শোনে না ওয়েটার','একদম ঠান্ডা খাবার']"
   ]
  },
  {
   "cell_type": "code",
   "execution_count": 31,
   "metadata": {},
   "outputs": [
    {
     "data": {
      "text/plain": [
       "['আমি আর আসছি না এখানে!', 'কথা শোনে না ওয়েটার', 'একদম ঠান্ডা খাবার']"
      ]
     },
     "execution_count": 31,
     "metadata": {},
     "output_type": "execute_result"
    }
   ],
   "source": [
    "sentences"
   ]
  },
  {
   "cell_type": "code",
   "execution_count": 32,
   "metadata": {},
   "outputs": [
    {
     "data": {
      "text/plain": [
       "list"
      ]
     },
     "execution_count": 32,
     "metadata": {},
     "output_type": "execute_result"
    }
   ],
   "source": [
    "type(sentences)"
   ]
  },
  {
   "cell_type": "code",
   "execution_count": 33,
   "metadata": {},
   "outputs": [],
   "source": [
    "labels = np.random.randint(0, num_classes, 3)\n",
    "y = to_categorical(labels,num_classes=num_classes)"
   ]
  },
  {
   "cell_type": "code",
   "execution_count": 43,
   "metadata": {},
   "outputs": [
    {
     "data": {
      "text/plain": [
       "array([[0., 0., 0., 1., 0.],\n",
       "       [1., 0., 0., 0., 0.],\n",
       "       [0., 0., 1., 0., 0.]], dtype=float32)"
      ]
     },
     "execution_count": 43,
     "metadata": {},
     "output_type": "execute_result"
    }
   ],
   "source": [
    "y"
   ]
  },
  {
   "cell_type": "code",
   "execution_count": 44,
   "metadata": {},
   "outputs": [
    {
     "data": {
      "text/plain": [
       "array([3, 0, 2])"
      ]
     },
     "execution_count": 44,
     "metadata": {},
     "output_type": "execute_result"
    }
   ],
   "source": [
    "labels"
   ]
  },
  {
   "cell_type": "code",
   "execution_count": 45,
   "metadata": {},
   "outputs": [],
   "source": [
    "words = set(w for sent in sentences for w in sent.split())\n"
   ]
  },
  {
   "cell_type": "code",
   "execution_count": 46,
   "metadata": {},
   "outputs": [
    {
     "data": {
      "text/plain": [
       "{'আমি',\n",
       " 'আর',\n",
       " 'আসছি',\n",
       " 'একদম',\n",
       " 'এখানে!',\n",
       " 'ওয়েটার',\n",
       " 'কথা',\n",
       " 'খাবার',\n",
       " 'ঠান্ডা',\n",
       " 'না',\n",
       " 'শোনে'}"
      ]
     },
     "execution_count": 46,
     "metadata": {},
     "output_type": "execute_result"
    }
   ],
   "source": [
    "words"
   ]
  },
  {
   "cell_type": "code",
   "execution_count": 47,
   "metadata": {},
   "outputs": [],
   "source": [
    "word_map = {w : i+1 for (i, w) in enumerate(words)}"
   ]
  },
  {
   "cell_type": "code",
   "execution_count": 48,
   "metadata": {},
   "outputs": [
    {
     "data": {
      "text/plain": [
       "{'ঠান্ডা': 1,\n",
       " 'ওয়েটার': 2,\n",
       " 'আসছি': 3,\n",
       " 'আমি': 4,\n",
       " 'এখানে!': 5,\n",
       " 'আর': 6,\n",
       " 'শোনে': 7,\n",
       " 'না': 8,\n",
       " 'একদম': 9,\n",
       " 'কথা': 10,\n",
       " 'খাবার': 11}"
      ]
     },
     "execution_count": 48,
     "metadata": {},
     "output_type": "execute_result"
    }
   ],
   "source": [
    "word_map"
   ]
  },
  {
   "cell_type": "code",
   "execution_count": 49,
   "metadata": {},
   "outputs": [],
   "source": [
    "sent_ints = [[word_map[w] for w in sent.split()] for sent in sentences]"
   ]
  },
  {
   "cell_type": "code",
   "execution_count": 50,
   "metadata": {},
   "outputs": [
    {
     "data": {
      "text/plain": [
       "[[4, 6, 3, 8, 5], [10, 7, 8, 2], [9, 1, 11]]"
      ]
     },
     "execution_count": 50,
     "metadata": {},
     "output_type": "execute_result"
    }
   ],
   "source": [
    "sent_ints"
   ]
  },
  {
   "cell_type": "code",
   "execution_count": 52,
   "metadata": {},
   "outputs": [],
   "source": [
    "vocab_size = len(words)"
   ]
  },
  {
   "cell_type": "code",
   "execution_count": 53,
   "metadata": {},
   "outputs": [
    {
     "data": {
      "text/plain": [
       "11"
      ]
     },
     "execution_count": 53,
     "metadata": {},
     "output_type": "execute_result"
    }
   ],
   "source": [
    "vocab_size"
   ]
  },
  {
   "cell_type": "code",
   "execution_count": 57,
   "metadata": {},
   "outputs": [
    {
     "name": "stdout",
     "output_type": "stream",
     "text": [
      "(3, 20, 12)\n"
     ]
    }
   ],
   "source": [
    "X = np.array([to_categorical((pad_sequences((sent,), \n",
    "    max_words)).reshape(20,),vocab_size + 1) for sent in sent_ints])\n",
    "print(X.shape)"
   ]
  },
  {
   "cell_type": "code",
   "execution_count": 58,
   "metadata": {},
   "outputs": [
    {
     "name": "stdout",
     "output_type": "stream",
     "text": [
      "[[[1. 0. 0. 0. 0. 0. 0. 0. 0. 0. 0. 0.]\n",
      "  [1. 0. 0. 0. 0. 0. 0. 0. 0. 0. 0. 0.]\n",
      "  [1. 0. 0. 0. 0. 0. 0. 0. 0. 0. 0. 0.]\n",
      "  [1. 0. 0. 0. 0. 0. 0. 0. 0. 0. 0. 0.]\n",
      "  [1. 0. 0. 0. 0. 0. 0. 0. 0. 0. 0. 0.]\n",
      "  [1. 0. 0. 0. 0. 0. 0. 0. 0. 0. 0. 0.]\n",
      "  [1. 0. 0. 0. 0. 0. 0. 0. 0. 0. 0. 0.]\n",
      "  [1. 0. 0. 0. 0. 0. 0. 0. 0. 0. 0. 0.]\n",
      "  [1. 0. 0. 0. 0. 0. 0. 0. 0. 0. 0. 0.]\n",
      "  [1. 0. 0. 0. 0. 0. 0. 0. 0. 0. 0. 0.]\n",
      "  [1. 0. 0. 0. 0. 0. 0. 0. 0. 0. 0. 0.]\n",
      "  [1. 0. 0. 0. 0. 0. 0. 0. 0. 0. 0. 0.]\n",
      "  [1. 0. 0. 0. 0. 0. 0. 0. 0. 0. 0. 0.]\n",
      "  [1. 0. 0. 0. 0. 0. 0. 0. 0. 0. 0. 0.]\n",
      "  [1. 0. 0. 0. 0. 0. 0. 0. 0. 0. 0. 0.]\n",
      "  [0. 0. 0. 0. 1. 0. 0. 0. 0. 0. 0. 0.]\n",
      "  [0. 0. 0. 0. 0. 0. 1. 0. 0. 0. 0. 0.]\n",
      "  [0. 0. 0. 1. 0. 0. 0. 0. 0. 0. 0. 0.]\n",
      "  [0. 0. 0. 0. 0. 0. 0. 0. 1. 0. 0. 0.]\n",
      "  [0. 0. 0. 0. 0. 1. 0. 0. 0. 0. 0. 0.]]\n",
      "\n",
      " [[1. 0. 0. 0. 0. 0. 0. 0. 0. 0. 0. 0.]\n",
      "  [1. 0. 0. 0. 0. 0. 0. 0. 0. 0. 0. 0.]\n",
      "  [1. 0. 0. 0. 0. 0. 0. 0. 0. 0. 0. 0.]\n",
      "  [1. 0. 0. 0. 0. 0. 0. 0. 0. 0. 0. 0.]\n",
      "  [1. 0. 0. 0. 0. 0. 0. 0. 0. 0. 0. 0.]\n",
      "  [1. 0. 0. 0. 0. 0. 0. 0. 0. 0. 0. 0.]\n",
      "  [1. 0. 0. 0. 0. 0. 0. 0. 0. 0. 0. 0.]\n",
      "  [1. 0. 0. 0. 0. 0. 0. 0. 0. 0. 0. 0.]\n",
      "  [1. 0. 0. 0. 0. 0. 0. 0. 0. 0. 0. 0.]\n",
      "  [1. 0. 0. 0. 0. 0. 0. 0. 0. 0. 0. 0.]\n",
      "  [1. 0. 0. 0. 0. 0. 0. 0. 0. 0. 0. 0.]\n",
      "  [1. 0. 0. 0. 0. 0. 0. 0. 0. 0. 0. 0.]\n",
      "  [1. 0. 0. 0. 0. 0. 0. 0. 0. 0. 0. 0.]\n",
      "  [1. 0. 0. 0. 0. 0. 0. 0. 0. 0. 0. 0.]\n",
      "  [1. 0. 0. 0. 0. 0. 0. 0. 0. 0. 0. 0.]\n",
      "  [1. 0. 0. 0. 0. 0. 0. 0. 0. 0. 0. 0.]\n",
      "  [0. 0. 0. 0. 0. 0. 0. 0. 0. 0. 1. 0.]\n",
      "  [0. 0. 0. 0. 0. 0. 0. 1. 0. 0. 0. 0.]\n",
      "  [0. 0. 0. 0. 0. 0. 0. 0. 1. 0. 0. 0.]\n",
      "  [0. 0. 1. 0. 0. 0. 0. 0. 0. 0. 0. 0.]]\n",
      "\n",
      " [[1. 0. 0. 0. 0. 0. 0. 0. 0. 0. 0. 0.]\n",
      "  [1. 0. 0. 0. 0. 0. 0. 0. 0. 0. 0. 0.]\n",
      "  [1. 0. 0. 0. 0. 0. 0. 0. 0. 0. 0. 0.]\n",
      "  [1. 0. 0. 0. 0. 0. 0. 0. 0. 0. 0. 0.]\n",
      "  [1. 0. 0. 0. 0. 0. 0. 0. 0. 0. 0. 0.]\n",
      "  [1. 0. 0. 0. 0. 0. 0. 0. 0. 0. 0. 0.]\n",
      "  [1. 0. 0. 0. 0. 0. 0. 0. 0. 0. 0. 0.]\n",
      "  [1. 0. 0. 0. 0. 0. 0. 0. 0. 0. 0. 0.]\n",
      "  [1. 0. 0. 0. 0. 0. 0. 0. 0. 0. 0. 0.]\n",
      "  [1. 0. 0. 0. 0. 0. 0. 0. 0. 0. 0. 0.]\n",
      "  [1. 0. 0. 0. 0. 0. 0. 0. 0. 0. 0. 0.]\n",
      "  [1. 0. 0. 0. 0. 0. 0. 0. 0. 0. 0. 0.]\n",
      "  [1. 0. 0. 0. 0. 0. 0. 0. 0. 0. 0. 0.]\n",
      "  [1. 0. 0. 0. 0. 0. 0. 0. 0. 0. 0. 0.]\n",
      "  [1. 0. 0. 0. 0. 0. 0. 0. 0. 0. 0. 0.]\n",
      "  [1. 0. 0. 0. 0. 0. 0. 0. 0. 0. 0. 0.]\n",
      "  [1. 0. 0. 0. 0. 0. 0. 0. 0. 0. 0. 0.]\n",
      "  [0. 0. 0. 0. 0. 0. 0. 0. 0. 1. 0. 0.]\n",
      "  [0. 1. 0. 0. 0. 0. 0. 0. 0. 0. 0. 0.]\n",
      "  [0. 0. 0. 0. 0. 0. 0. 0. 0. 0. 0. 1.]]]\n"
     ]
    }
   ],
   "source": [
    "print(X)"
   ]
  },
  {
   "cell_type": "code",
   "execution_count": 59,
   "metadata": {},
   "outputs": [
    {
     "name": "stdout",
     "output_type": "stream",
     "text": [
      "[[0. 0. 0. 1. 0.]\n",
      " [1. 0. 0. 0. 0.]\n",
      " [0. 0. 1. 0. 0.]]\n"
     ]
    }
   ],
   "source": [
    "print(y)"
   ]
  },
  {
   "cell_type": "code",
   "execution_count": 62,
   "metadata": {},
   "outputs": [],
   "source": [
    "model = Sequential()\n",
    "model.add(Dense(512, input_shape=(max_words, vocab_size + 1)))\n",
    "model.add(LSTM(128))\n",
    "model.add(Dense(5, activation='softmax'))\n",
    "model.compile(loss='categorical_crossentropy',optimizer='adam',metrics=['accuracy'])"
   ]
  },
  {
   "cell_type": "code",
   "execution_count": 63,
   "metadata": {},
   "outputs": [
    {
     "name": "stdout",
     "output_type": "stream",
     "text": [
      "Train on 3 samples\n",
      "3/3 [==============================] - 0s 161ms/sample - loss: 1.6181 - acc: 0.0000e+00\n"
     ]
    },
    {
     "data": {
      "text/plain": [
       "<tensorflow.python.keras.callbacks.History at 0x7fbf62f00d30>"
      ]
     },
     "execution_count": 63,
     "metadata": {},
     "output_type": "execute_result"
    }
   ],
   "source": [
    "model.fit(X,y)"
   ]
  },
  {
   "cell_type": "code",
   "execution_count": null,
   "metadata": {},
   "outputs": [],
   "source": []
  }
 ],
 "metadata": {
  "kernelspec": {
   "display_name": "Python 3",
   "language": "python",
   "name": "python3"
  },
  "language_info": {
   "codemirror_mode": {
    "name": "ipython",
    "version": 3
   },
   "file_extension": ".py",
   "mimetype": "text/x-python",
   "name": "python",
   "nbconvert_exporter": "python",
   "pygments_lexer": "ipython3",
   "version": "3.6.10"
  }
 },
 "nbformat": 4,
 "nbformat_minor": 4
}
