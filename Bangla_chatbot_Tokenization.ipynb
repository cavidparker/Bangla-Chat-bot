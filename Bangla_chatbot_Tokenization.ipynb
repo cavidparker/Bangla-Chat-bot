{
 "cells": [
  {
   "cell_type": "code",
   "execution_count": 1,
   "metadata": {},
   "outputs": [],
   "source": [
    "sentences = ['যদি তোর ডাক শুনে কেউ না আসে, তবে একলা চলো রে','শিমুল কাঠই হোক বা বকুল কাঠই হোক, আগুনের চেহারাটা একই']"
   ]
  },
  {
   "cell_type": "code",
   "execution_count": 2,
   "metadata": {},
   "outputs": [
    {
     "name": "stderr",
     "output_type": "stream",
     "text": [
      "[nltk_data] Downloading package punkt to /home/cavid/nltk_data...\n",
      "[nltk_data]   Package punkt is already up-to-date!\n"
     ]
    },
    {
     "data": {
      "text/plain": [
       "True"
      ]
     },
     "execution_count": 2,
     "metadata": {},
     "output_type": "execute_result"
    }
   ],
   "source": [
    "import nltk\n",
    "nltk.download('punkt')"
   ]
  },
  {
   "cell_type": "code",
   "execution_count": 3,
   "metadata": {},
   "outputs": [],
   "source": [
    "from sklearn.feature_extraction.text import CountVectorizer"
   ]
  },
  {
   "cell_type": "code",
   "execution_count": 4,
   "metadata": {},
   "outputs": [],
   "source": [
    "# make transform \n",
    "vectorizer = CountVectorizer()"
   ]
  },
  {
   "cell_type": "code",
   "execution_count": 5,
   "metadata": {},
   "outputs": [
    {
     "data": {
      "text/plain": [
       "CountVectorizer(analyzer='word', binary=False, decode_error='strict',\n",
       "                dtype=<class 'numpy.int64'>, encoding='utf-8', input='content',\n",
       "                lowercase=True, max_df=1.0, max_features=None, min_df=1,\n",
       "                ngram_range=(1, 1), preprocessor=None, stop_words=None,\n",
       "                strip_accents=None, token_pattern='(?u)\\\\b\\\\w\\\\w+\\\\b',\n",
       "                tokenizer=None, vocabulary=None)"
      ]
     },
     "execution_count": 5,
     "metadata": {},
     "output_type": "execute_result"
    }
   ],
   "source": [
    "vectorizer.fit(sentences)"
   ]
  },
  {
   "cell_type": "code",
   "execution_count": 6,
   "metadata": {},
   "outputs": [
    {
     "data": {
      "text/plain": [
       "{'যদ': 8,\n",
       " 'আস': 1,\n",
       " 'তব': 6,\n",
       " 'একল': 3,\n",
       " 'চল': 4,\n",
       " 'ঠই': 5,\n",
       " 'বক': 7,\n",
       " 'আগ': 0,\n",
       " 'একই': 2}"
      ]
     },
     "execution_count": 6,
     "metadata": {},
     "output_type": "execute_result"
    }
   ],
   "source": [
    "vectorizer.vocabulary_"
   ]
  },
  {
   "cell_type": "code",
   "execution_count": 7,
   "metadata": {},
   "outputs": [],
   "source": [
    "import warnings \n",
    "warnings.filterwarnings(\"ignore\")"
   ]
  },
  {
   "cell_type": "code",
   "execution_count": 8,
   "metadata": {},
   "outputs": [
    {
     "data": {
      "text/plain": [
       "{'যদি': 15,\n",
       " 'তোর': 11,\n",
       " 'ডাক': 9,\n",
       " 'শুনে': 18,\n",
       " 'কেউ': 6,\n",
       " 'না': 12,\n",
       " 'আসে': 2,\n",
       " ',': 0,\n",
       " 'তবে': 10,\n",
       " 'একলা': 4,\n",
       " 'চলো': 7,\n",
       " 'রে': 16,\n",
       " 'শিমুল': 17,\n",
       " 'কাঠই': 5,\n",
       " 'হোক': 19,\n",
       " 'বা': 14,\n",
       " 'বকুল': 13,\n",
       " 'আগুনের': 1,\n",
       " 'চেহারাটা': 8,\n",
       " 'একই': 3}"
      ]
     },
     "execution_count": 8,
     "metadata": {},
     "output_type": "execute_result"
    }
   ],
   "source": [
    "from nltk import word_tokenize\n",
    "vectorizer = CountVectorizer(encoding = 'utf-8', tokenizer = word_tokenize)\n",
    "vectorizer.fit(sentences)\n",
    "vectorizer.vocabulary_"
   ]
  },
  {
   "cell_type": "code",
   "execution_count": 9,
   "metadata": {},
   "outputs": [
    {
     "name": "stdout",
     "output_type": "stream",
     "text": [
      "{'যদি': 15, 'তোর': 11, 'ডাক': 9, 'শুনে': 18, 'কেউ': 6, 'না': 12, 'আসে': 2, ',': 0, 'তবে': 10, 'একলা': 4, 'চলো': 7, 'রে': 16, 'শিমুল': 17, 'কাঠই': 5, 'হোক': 19, 'বা': 14, 'বকুল': 13, 'আগুনের': 1, 'চেহারাটা': 8, 'একই': 3}\n"
     ]
    }
   ],
   "source": [
    "print(vectorizer.vocabulary_)"
   ]
  },
  {
   "cell_type": "code",
   "execution_count": 10,
   "metadata": {},
   "outputs": [
    {
     "data": {
      "text/plain": [
       "array([[1, 0, 1, 0, 1, 0, 1, 1, 0, 1, 1, 1, 1, 0, 0, 1, 1, 0, 1, 0],\n",
       "       [1, 1, 0, 1, 0, 2, 0, 0, 1, 0, 0, 0, 0, 1, 1, 0, 0, 1, 0, 2]])"
      ]
     },
     "execution_count": 10,
     "metadata": {},
     "output_type": "execute_result"
    }
   ],
   "source": [
    "vectorizer.transform(sentences).toarray()"
   ]
  },
  {
   "cell_type": "code",
   "execution_count": 11,
   "metadata": {},
   "outputs": [],
   "source": [
    "vec = CountVectorizer()\n",
    "x = vec.fit_transform(sentences).toarray()\n"
   ]
  },
  {
   "cell_type": "code",
   "execution_count": 12,
   "metadata": {},
   "outputs": [
    {
     "name": "stdout",
     "output_type": "stream",
     "text": [
      "(2, 9)\n"
     ]
    }
   ],
   "source": [
    "print(x.shape)"
   ]
  },
  {
   "cell_type": "code",
   "execution_count": 13,
   "metadata": {},
   "outputs": [
    {
     "name": "stdout",
     "output_type": "stream",
     "text": [
      "['আগ', 'আস', 'একই', 'একল', 'চল', 'ঠই', 'তব', 'বক', 'যদ']\n"
     ]
    }
   ],
   "source": [
    "print(vec.get_feature_names())"
   ]
  },
  {
   "cell_type": "code",
   "execution_count": 14,
   "metadata": {},
   "outputs": [],
   "source": [
    "vectorizer = CountVectorizer(encoding='utf-8', token_pattern=r'[\\u0980-\\u09ff]+')"
   ]
  },
  {
   "cell_type": "code",
   "execution_count": 15,
   "metadata": {},
   "outputs": [
    {
     "data": {
      "text/plain": [
       "{'যদি': 14,\n",
       " 'তোর': 10,\n",
       " 'ডাক': 8,\n",
       " 'শুনে': 17,\n",
       " 'কেউ': 5,\n",
       " 'না': 11,\n",
       " 'আসে': 1,\n",
       " 'তবে': 9,\n",
       " 'একলা': 3,\n",
       " 'চলো': 6,\n",
       " 'রে': 15,\n",
       " 'শিমুল': 16,\n",
       " 'কাঠই': 4,\n",
       " 'হোক': 18,\n",
       " 'বা': 13,\n",
       " 'বকুল': 12,\n",
       " 'আগুনের': 0,\n",
       " 'চেহারাটা': 7,\n",
       " 'একই': 2}"
      ]
     },
     "execution_count": 15,
     "metadata": {},
     "output_type": "execute_result"
    }
   ],
   "source": [
    "vectorizer.fit(sentences)\n",
    "vectorizer.vocabulary_"
   ]
  },
  {
   "cell_type": "code",
   "execution_count": 16,
   "metadata": {},
   "outputs": [
    {
     "data": {
      "text/plain": [
       "{'যদি': 15,\n",
       " 'তোর': 11,\n",
       " 'ডাক': 9,\n",
       " 'শুনে': 18,\n",
       " 'কেউ': 6,\n",
       " 'না': 12,\n",
       " 'আসে': 2,\n",
       " ',': 0,\n",
       " 'তবে': 10,\n",
       " 'একলা': 4,\n",
       " 'চলো': 7,\n",
       " 'রে': 16,\n",
       " 'শিমুল': 17,\n",
       " 'কাঠই': 5,\n",
       " 'হোক': 19,\n",
       " 'বা': 14,\n",
       " 'বকুল': 13,\n",
       " 'আগুনের': 1,\n",
       " 'চেহারাটা': 8,\n",
       " 'একই': 3}"
      ]
     },
     "execution_count": 16,
     "metadata": {},
     "output_type": "execute_result"
    }
   ],
   "source": [
    "from sklearn.feature_extraction.text import TfidfVectorizer\n",
    "\n",
    "vectorizer =TfidfVectorizer(encoding='utf-8', tokenizer=word_tokenize)\n",
    "\n",
    "vectorizer.fit(sentences)\n",
    "vectorizer.vocabulary_"
   ]
  },
  {
   "cell_type": "code",
   "execution_count": 17,
   "metadata": {},
   "outputs": [
    {
     "data": {
      "text/plain": [
       "{'যদি': 15,\n",
       " 'তোর': 11,\n",
       " 'ডাক': 9,\n",
       " 'শুনে': 18,\n",
       " 'কেউ': 6,\n",
       " 'না': 12,\n",
       " 'আসে': 2,\n",
       " ',': 0,\n",
       " 'তবে': 10,\n",
       " 'একলা': 4,\n",
       " 'চলো': 7,\n",
       " 'রে': 16,\n",
       " 'শিমুল': 17,\n",
       " 'কাঠই': 5,\n",
       " 'হোক': 19,\n",
       " 'বা': 14,\n",
       " 'বকুল': 13,\n",
       " 'আগুনের': 1,\n",
       " 'চেহারাটা': 8,\n",
       " 'একই': 3}"
      ]
     },
     "execution_count": 17,
     "metadata": {},
     "output_type": "execute_result"
    }
   ],
   "source": [
    "from sklearn.feature_extraction.text import TfidfVectorizer\n",
    "vectorizer = TfidfVectorizer(encoding = 'utf-8', tokenizer= word_tokenize)\n",
    "vectorizer.fit(sentences)\n",
    "vectorizer.vocabulary_"
   ]
  },
  {
   "cell_type": "code",
   "execution_count": 18,
   "metadata": {},
   "outputs": [
    {
     "data": {
      "text/plain": [
       "array([[0.2097554 , 0.        , 0.29480389, 0.        , 0.29480389,\n",
       "        0.        , 0.29480389, 0.29480389, 0.        , 0.29480389,\n",
       "        0.29480389, 0.29480389, 0.29480389, 0.        , 0.        ,\n",
       "        0.29480389, 0.29480389, 0.        , 0.29480389, 0.        ],\n",
       "       [0.186811  , 0.26255634, 0.        , 0.26255634, 0.        ,\n",
       "        0.52511268, 0.        , 0.        , 0.26255634, 0.        ,\n",
       "        0.        , 0.        , 0.        , 0.26255634, 0.26255634,\n",
       "        0.        , 0.        , 0.26255634, 0.        , 0.52511268]])"
      ]
     },
     "execution_count": 18,
     "metadata": {},
     "output_type": "execute_result"
    }
   ],
   "source": [
    "vectorizer.transform(sentences).toarray()"
   ]
  },
  {
   "cell_type": "code",
   "execution_count": 19,
   "metadata": {},
   "outputs": [
    {
     "data": {
      "text/plain": [
       "['যদি তোর ডাক শুনে কেউ না আসে, তবে একলা চলো রে',\n",
       " 'শিমুল কাঠই হোক বা বকুল কাঠই হোক, আগুনের চেহারাটা একই']"
      ]
     },
     "execution_count": 19,
     "metadata": {},
     "output_type": "execute_result"
    }
   ],
   "source": [
    "sentences"
   ]
  },
  {
   "cell_type": "code",
   "execution_count": null,
   "metadata": {},
   "outputs": [],
   "source": []
  },
  {
   "cell_type": "code",
   "execution_count": null,
   "metadata": {},
   "outputs": [],
   "source": []
  },
  {
   "cell_type": "code",
   "execution_count": 20,
   "metadata": {},
   "outputs": [],
   "source": [
    "cities = ['ঢাকা', 'বার্লিন', 'কুমিল্লা', 'শিকাগো', 'সিঙ্গাপুর']"
   ]
  },
  {
   "cell_type": "code",
   "execution_count": 21,
   "metadata": {},
   "outputs": [
    {
     "data": {
      "text/plain": [
       "['ঢাকা', 'বার্লিন', 'কুমিল্লা', 'শিকাগো', 'সিঙ্গাপুর']"
      ]
     },
     "execution_count": 21,
     "metadata": {},
     "output_type": "execute_result"
    }
   ],
   "source": [
    "cities"
   ]
  },
  {
   "cell_type": "code",
   "execution_count": 22,
   "metadata": {},
   "outputs": [],
   "source": [
    "from sklearn.preprocessing import LabelEncoder"
   ]
  },
  {
   "cell_type": "code",
   "execution_count": 23,
   "metadata": {},
   "outputs": [],
   "source": [
    "encoder = LabelEncoder()"
   ]
  },
  {
   "cell_type": "code",
   "execution_count": 24,
   "metadata": {},
   "outputs": [],
   "source": [
    "city_labels = encoder.fit_transform(cities)"
   ]
  },
  {
   "cell_type": "code",
   "execution_count": 25,
   "metadata": {},
   "outputs": [
    {
     "data": {
      "text/plain": [
       "array([1, 2, 0, 3, 4])"
      ]
     },
     "execution_count": 25,
     "metadata": {},
     "output_type": "execute_result"
    }
   ],
   "source": [
    "city_labels"
   ]
  },
  {
   "cell_type": "code",
   "execution_count": 26,
   "metadata": {},
   "outputs": [],
   "source": [
    "from sklearn.preprocessing import OneHotEncoder"
   ]
  },
  {
   "cell_type": "code",
   "execution_count": 27,
   "metadata": {},
   "outputs": [
    {
     "data": {
      "text/plain": [
       "array([[0., 1., 0., 0., 0.],\n",
       "       [0., 0., 1., 0., 0.],\n",
       "       [1., 0., 0., 0., 0.],\n",
       "       [0., 0., 0., 1., 0.],\n",
       "       [0., 0., 0., 0., 1.]])"
      ]
     },
     "execution_count": 27,
     "metadata": {},
     "output_type": "execute_result"
    }
   ],
   "source": [
    "encoder = OneHotEncoder(sparse=False)\n",
    "city_labels = city_labels.reshape((5,1))\n",
    "encoder.fit_transform(city_labels)"
   ]
  },
  {
   "cell_type": "code",
   "execution_count": 28,
   "metadata": {},
   "outputs": [
    {
     "data": {
      "text/plain": [
       "array([[1],\n",
       "       [2],\n",
       "       [0],\n",
       "       [3],\n",
       "       [4]])"
      ]
     },
     "execution_count": 28,
     "metadata": {},
     "output_type": "execute_result"
    }
   ],
   "source": [
    "city_labels"
   ]
  },
  {
   "cell_type": "code",
   "execution_count": null,
   "metadata": {},
   "outputs": [],
   "source": []
  }
 ],
 "metadata": {
  "kernelspec": {
   "display_name": "Python 3",
   "language": "python",
   "name": "python3"
  },
  "language_info": {
   "codemirror_mode": {
    "name": "ipython",
    "version": 3
   },
   "file_extension": ".py",
   "mimetype": "text/x-python",
   "name": "python",
   "nbconvert_exporter": "python",
   "pygments_lexer": "ipython3",
   "version": "3.6.10"
  }
 },
 "nbformat": 4,
 "nbformat_minor": 4
}
